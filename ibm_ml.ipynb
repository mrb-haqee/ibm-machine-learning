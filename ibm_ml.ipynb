{
 "cells": [
  {
   "cell_type": "code",
   "execution_count": 1,
   "metadata": {},
   "outputs": [
    {
     "name": "stdout",
     "output_type": "stream",
     "text": [
      "Ringkasan Statistik Data BMI:\n",
      "            Height       Weight          BMI\n",
      "count  1000.000000  1000.000000  1000.000000\n",
      "mean    169.324000    78.608000    27.663902\n",
      "std      11.181057    19.833146     7.453868\n",
      "min     147.000000    42.000000    13.025923\n",
      "25%     161.000000    62.000000    21.490285\n",
      "50%     169.000000    78.000000    27.183313\n",
      "75%     178.000000    94.000000    32.987137\n",
      "max     193.000000   120.000000    47.408285\n",
      "\n",
      "Jumlah Pria dan Wanita:\n",
      "Gender\n",
      "Female    516\n",
      "Male      484\n",
      "Name: count, dtype: int64\n",
      "\n",
      "Jumlah Status BMI:\n",
      "Status\n",
      "Obesity II     382\n",
      "Obesity I      224\n",
      "Normal         194\n",
      "Underweight    114\n",
      "Overweight      86\n",
      "Name: count, dtype: int64\n",
      "\n",
      "Rata-rata BMI berdasarkan Jenis Kelamin:\n",
      "Gender\n",
      "Female    26.464056\n",
      "Male      28.943076\n",
      "Name: BMI, dtype: float64\n"
     ]
    }
   ],
   "source": [
    "# SUMMARY\n",
    "import pandas as pd\n",
    "\n",
    "# Membaca data dari file CSV\n",
    "file_path = 'data/dataset_bmi.csv'\n",
    "df = pd.read_csv(file_path)\n",
    "\n",
    "# Menampilkan beberapa ringkasan statistik\n",
    "summary = df.describe()\n",
    "gender_count = df['Gender'].value_counts() # Menampilkan jumlah pria dan wanita\n",
    "status_count = df['Status'].value_counts() # Menampilkan jumlah status BMI\n",
    "mean_bmi_by_gender = df.groupby('Gender')['BMI'].mean() # Menampilkan rata-rata BMI berdasarkan jenis kelamin\n",
    "\n",
    "print(\"Ringkasan Statistik Data BMI:\")\n",
    "print(summary)\n",
    "print(\"\\nJumlah Pria dan Wanita:\")\n",
    "print(gender_count)\n",
    "print(\"\\nJumlah Status BMI:\")\n",
    "print(status_count)\n",
    "print(\"\\nRata-rata BMI berdasarkan Jenis Kelamin:\")\n",
    "print(mean_bmi_by_gender)\n"
   ]
  },
  {
   "cell_type": "code",
   "execution_count": 10,
   "metadata": {},
   "outputs": [
    {
     "name": "stdout",
     "output_type": "stream",
     "text": [
      "Akurasi Model: 100.00%\n"
     ]
    },
    {
     "name": "stderr",
     "output_type": "stream",
     "text": [
      "C:\\Users\\Lenovo\\AppData\\Local\\Temp\\ipykernel_18552\\2914650201.py:16: SettingWithCopyWarning: \n",
      "A value is trying to be set on a copy of a slice from a DataFrame.\n",
      "Try using .loc[row_indexer,col_indexer] = value instead\n",
      "\n",
      "See the caveats in the documentation: https://pandas.pydata.org/pandas-docs/stable/user_guide/indexing.html#returning-a-view-versus-a-copy\n",
      "  X['Gender'] = label_encoder.fit_transform(X['Gender'])\n"
     ]
    }
   ],
   "source": [
    "import pandas as pd\n",
    "from sklearn.model_selection import train_test_split\n",
    "from sklearn.preprocessing import LabelEncoder\n",
    "from sklearn.tree import DecisionTreeClassifier\n",
    "from sklearn.metrics import accuracy_score\n",
    "\n",
    "# Membaca data dari CSV\n",
    "data = pd.read_csv('data/dataset_bmi.csv')\n",
    "\n",
    "# Pisahkan atribut prediksi (X) dan label (y)\n",
    "X = data[['Gender', 'Height', 'Weight', 'BMI']]\n",
    "y = data['Status']\n",
    "\n",
    "# Lakukan encoding untuk atribut Gender\n",
    "label_encoder = LabelEncoder()\n",
    "X['Gender'] = label_encoder.fit_transform(X['Gender'])\n",
    "\n",
    "# Bagi data menjadi data latih dan data uji\n",
    "X_train, X_test, y_train, y_test = train_test_split(X, y, test_size=0.2, random_state=42)\n",
    "\n",
    "# Inisialisasi model Decision Tree\n",
    "model = DecisionTreeClassifier()\n",
    "\n",
    "# Latih model pada data latih\n",
    "model.fit(X_train, y_train)\n",
    "\n",
    "# Lakukan prediksi pada data uji\n",
    "y_pred = model.predict(X_test)\n",
    "\n",
    "# Hitung akurasi model\n",
    "accuracy = accuracy_score(y_test, y_pred)\n",
    "print(f'Akurasi Model: {accuracy * 100:.2f}%')\n"
   ]
  },
  {
   "cell_type": "code",
   "execution_count": 15,
   "metadata": {},
   "outputs": [
    {
     "name": "stdout",
     "output_type": "stream",
     "text": [
      "Hasil Prediksi Status BMI:\n",
      "Sample 1: Obesity I\n",
      "Sample 2: Overweight\n"
     ]
    }
   ],
   "source": [
    "import pandas as pd\n",
    "\n",
    "# TESTING SAMPLE\n",
    "\n",
    "'''\n",
    "Syarat yang harus di penuhi:\n",
    "    Male:\n",
    "        - Weight: 51, 120\n",
    "        - Height: 1.57, 1.93\n",
    "    Famale:\n",
    "        - Weight: 42, 100\n",
    "        - Height: 1.47, 1.83\n",
    "'''\n",
    "\n",
    "# Data sampel yang akan diuji\n",
    "sample_data = {\n",
    "    'Gender': ['Female', 'Male'], # Ganti sesuai kebutuhan\n",
    "    'Height': [200, 120], # Ganti sesuai kebutuhan\n",
    "    'Weight': [110, 100], # Ganti sesuai kebutuhan\n",
    "}\n",
    "input_data = pd.DataFrame(sample_data)\n",
    "\n",
    "# # JIKA MENGGUNAKAN CSV\n",
    "# file_path = 'data/data_sample.csv'  # Ganti dengan nama dan path file CSV yang sesuai\n",
    "# input_data = pd.read_csv(file_path)\n",
    "\n",
    "\n",
    "input_data['Gender'] = label_encoder.transform(input_data['Gender']) # Lakukan encoding untuk atribut Gender\n",
    "input_data['BMI'] = input_data['Weight'] / (input_data['Height'] / 100) ** 2 # Menghitung BMI\n",
    "input_prediction = model.predict(input_data) # Lakukan prediksi menggunakan model yang telah dilatih\n",
    "\n",
    "# Konversi hasil prediksi ke dalam status BMI yang sesuai\n",
    "status_mapping = {label: status for label, status in zip(model.classes_, data['Status'].unique())}\n",
    "input_prediction = [status_mapping[prediction] for prediction in input_prediction]\n",
    "\n",
    "# Cetak hasil prediksi\n",
    "print(\"Hasil Prediksi Status BMI:\")\n",
    "for i in range(len(input_data)):\n",
    "    print(f\"Sample {i + 1}: {input_prediction[i]}\")\n"
   ]
  }
 ],
 "metadata": {
  "kernelspec": {
   "display_name": "Python 3",
   "language": "python",
   "name": "python3"
  },
  "language_info": {
   "codemirror_mode": {
    "name": "ipython",
    "version": 3
   },
   "file_extension": ".py",
   "mimetype": "text/x-python",
   "name": "python",
   "nbconvert_exporter": "python",
   "pygments_lexer": "ipython3",
   "version": "3.11.1"
  },
  "orig_nbformat": 4
 },
 "nbformat": 4,
 "nbformat_minor": 2
}
