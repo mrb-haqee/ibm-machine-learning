{
 "cells": [
  {
   "cell_type": "code",
   "execution_count": 6,
   "metadata": {},
   "outputs": [
    {
     "name": "stdout",
     "output_type": "stream",
     "text": [
      "Ringkasan Statistik Data BMI:\n",
      "            Height       Weight          BMI\n",
      "count  5000.000000  5000.000000  5000.000000\n",
      "mean    169.761400    78.413200    27.426986\n",
      "std      11.651816    19.724875     7.247019\n",
      "min     147.000000    42.000000    12.834685\n",
      "25%     160.000000    62.000000    21.646717\n",
      "50%     169.000000    78.000000    27.191237\n",
      "75%     179.000000    93.000000    32.485430\n",
      "max     193.000000   120.000000    48.107891\n",
      "\n",
      "Jumlah Pria dan Wanita:\n",
      "Gender\n",
      "Female    2558\n",
      "Male      2442\n",
      "Name: count, dtype: int64\n",
      "\n",
      "Jumlah Status BMI:\n",
      "Status\n",
      "Obesity II     1833\n",
      "Obesity I      1199\n",
      "Normal          920\n",
      "Underweight     596\n",
      "Overweight      452\n",
      "Name: count, dtype: int64\n",
      "\n",
      "Rata-rata BMI berdasarkan Jenis Kelamin:\n",
      "Gender\n",
      "Female    26.586001\n",
      "Male      28.307919\n",
      "Name: BMI, dtype: float64\n"
     ]
    }
   ],
   "source": [
    "# SUMMARY\n",
    "import pandas as pd\n",
    "\n",
    "# Membaca data dari file CSV\n",
    "file_path = 'ml/data/dataset_bmi.csv'\n",
    "df = pd.read_csv(file_path)\n",
    "\n",
    "# Menampilkan beberapa ringkasan statistik\n",
    "summary = df.describe()\n",
    "gender_count = df['Gender'].value_counts() # Menampilkan jumlah pria dan wanita\n",
    "status_count = df['Status'].value_counts() # Menampilkan jumlah status BMI\n",
    "mean_bmi_by_gender = df.groupby('Gender')['BMI'].mean() # Menampilkan rata-rata BMI berdasarkan jenis kelamin\n",
    "\n",
    "print(\"Ringkasan Statistik Data BMI:\")\n",
    "print(summary)\n",
    "print(\"\\nJumlah Pria dan Wanita:\")\n",
    "print(gender_count)\n",
    "print(\"\\nJumlah Status BMI:\")\n",
    "print(status_count)\n",
    "print(\"\\nRata-rata BMI berdasarkan Jenis Kelamin:\")\n",
    "print(mean_bmi_by_gender)\n"
   ]
  },
  {
   "cell_type": "code",
   "execution_count": 7,
   "metadata": {},
   "outputs": [
    {
     "name": "stdout",
     "output_type": "stream",
     "text": [
      "Akurasi Model: 99.90%\n"
     ]
    },
    {
     "name": "stderr",
     "output_type": "stream",
     "text": [
      "C:\\Users\\Lenovo\\AppData\\Local\\Temp\\ipykernel_13808\\1121338836.py:16: SettingWithCopyWarning: \n",
      "A value is trying to be set on a copy of a slice from a DataFrame.\n",
      "Try using .loc[row_indexer,col_indexer] = value instead\n",
      "\n",
      "See the caveats in the documentation: https://pandas.pydata.org/pandas-docs/stable/user_guide/indexing.html#returning-a-view-versus-a-copy\n",
      "  X['Gender'] = label_encoder.fit_transform(X['Gender'])\n"
     ]
    }
   ],
   "source": [
    "import pandas as pd\n",
    "from sklearn.model_selection import train_test_split\n",
    "from sklearn.preprocessing import LabelEncoder\n",
    "from sklearn.tree import DecisionTreeClassifier\n",
    "from sklearn.metrics import accuracy_score\n",
    "\n",
    "# Membaca data dari CSV\n",
    "data = pd.read_csv('ml/data/dataset_bmi.csv')\n",
    "\n",
    "# Pisahkan atribut prediksi (X) dan label (y)\n",
    "X = data[['Gender', 'Height', 'Weight', 'BMI']]\n",
    "y = data['Status']\n",
    "\n",
    "# Lakukan encoding untuk atribut Gender\n",
    "label_encoder = LabelEncoder()\n",
    "X['Gender'] = label_encoder.fit_transform(X['Gender'])\n",
    "\n",
    "# Bagi data menjadi data latih dan data uji\n",
    "X_train, X_test, y_train, y_test = train_test_split(X, y, test_size=0.2, random_state=42)\n",
    "\n",
    "# Inisialisasi model Decision Tree\n",
    "model = DecisionTreeClassifier()\n",
    "\n",
    "# Latih model pada data latih\n",
    "model.fit(X_train, y_train)\n",
    "\n",
    "# Lakukan prediksi pada data uji\n",
    "y_pred = model.predict(X_test)\n",
    "\n",
    "# Hitung akurasi model\n",
    "accuracy = accuracy_score(y_test, y_pred)\n",
    "print(f'Akurasi Model: {accuracy * 100:.2f}%')\n"
   ]
  },
  {
   "cell_type": "code",
   "execution_count": 8,
   "metadata": {},
   "outputs": [
    {
     "name": "stdout",
     "output_type": "stream",
     "text": [
      "Hasil Prediksi Status BMI:\n",
      "Sample 1: Underweight\n",
      "Sample 2: Overweight\n"
     ]
    }
   ],
   "source": [
    "import pandas as pd\n",
    "\n",
    "# TESTING SAMPLE\n",
    "\n",
    "'''\n",
    "Syarat yang harus di penuhi:\n",
    "    Male:\n",
    "        - Weight: 51, 120\n",
    "        - Height: 1.57, 1.93\n",
    "    Famale:\n",
    "        - Weight: 42, 100\n",
    "        - Height: 1.47, 1.83\n",
    "'''\n",
    "\n",
    "# Data sampel yang akan diuji\n",
    "sample_data = {\n",
    "    'Gender': ['Female', 'Male'], # Ganti sesuai kebutuhan\n",
    "    'Height': [200, 120], # Ganti sesuai kebutuhan\n",
    "    'Weight': [110, 100], # Ganti sesuai kebutuhan\n",
    "}\n",
    "input_data = pd.DataFrame(sample_data)\n",
    "\n",
    "# # JIKA MENGGUNAKAN CSV\n",
    "# file_path = 'data/data_sample.csv'  # Ganti dengan nama dan path file CSV yang sesuai\n",
    "# input_data = pd.read_csv(file_path)\n",
    "\n",
    "\n",
    "input_data['Gender'] = label_encoder.transform(input_data['Gender']) # Lakukan encoding untuk atribut Gender\n",
    "input_data['BMI'] = input_data['Weight'] / (input_data['Height'] / 100) ** 2 # Menghitung BMI\n",
    "input_prediction = model.predict(input_data) # Lakukan prediksi menggunakan model yang telah dilatih\n",
    "\n",
    "# Konversi hasil prediksi ke dalam status BMI yang sesuai\n",
    "status_mapping = {label: status for label, status in zip(model.classes_, data['Status'].unique())}\n",
    "input_prediction = [status_mapping[prediction] for prediction in input_prediction]\n",
    "\n",
    "# Cetak hasil prediksi\n",
    "print(\"Hasil Prediksi Status BMI:\")\n",
    "for i in range(len(input_data)):\n",
    "    print(f\"Sample {i + 1}: {input_prediction[i]}\")\n"
   ]
  }
 ],
 "metadata": {
  "kernelspec": {
   "display_name": "Python 3",
   "language": "python",
   "name": "python3"
  },
  "language_info": {
   "codemirror_mode": {
    "name": "ipython",
    "version": 3
   },
   "file_extension": ".py",
   "mimetype": "text/x-python",
   "name": "python",
   "nbconvert_exporter": "python",
   "pygments_lexer": "ipython3",
   "version": "3.11.1"
  },
  "orig_nbformat": 4
 },
 "nbformat": 4,
 "nbformat_minor": 2
}
